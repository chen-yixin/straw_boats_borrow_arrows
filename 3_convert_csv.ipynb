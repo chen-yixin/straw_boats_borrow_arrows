{
 "cells": [
  {
   "cell_type": "code",
   "outputs": [],
   "source": [
    "# 取得全部上游数据的文件路径\n",
    "from typing import List\n",
    "from pathlib import Path\n",
    "from common import UPSTREAM_DIR\n",
    "\n",
    "upstream_files: List[Path] = []\n",
    "for filepath in UPSTREAM_DIR.glob('*.log'):\n",
    "    upstream_files.append(filepath)\n",
    "\n",
    "upstream_files[:3]"
   ],
   "metadata": {
    "collapsed": false
   },
   "id": "1ed63f000e6a1b34",
   "execution_count": null
  },
  {
   "cell_type": "code",
   "outputs": [],
   "source": [
    "# 解析上游数据\n",
    "import re\n",
    "pattern = re.compile(r'^([\\d/]+\\s[\\d:.]+)\\s([\\d.]+):(\\d+)\\s?(.*?)\\s?(\\S*)\\s?(\\S*)$')\n",
    "\n",
    "all_data = []\n",
    "for upstream_file in upstream_files:\n",
    "    with open(upstream_file, 'r', encoding='utf-8') as f:\n",
    "        for line in f.readlines():\n",
    "            if match := pattern.match(line):\n",
    "                entry = {\n",
    "                    'timestamp': match.group(1),\n",
    "                    'ip': match.group(2),\n",
    "                    'port': match.group(3),\n",
    "                    'client': match.group(4),\n",
    "                    'username': match.group(5),\n",
    "                    'password': match.group(6),\n",
    "                }\n",
    "                all_data.append(entry)\n",
    "\n",
    "all_data[:3]"
   ],
   "metadata": {
    "collapsed": false
   },
   "id": "da63088d5f7b9dad",
   "execution_count": null
  },
  {
   "cell_type": "code",
   "outputs": [],
   "source": [
    "# CSV文件输出\n",
    "import csv\n",
    "from common import DOWNSTREAM_DIR\n",
    "\n",
    "fieldnames = ['timestamp', 'ip', 'port', 'client', 'username', 'password']\n",
    "csv_path = DOWNSTREAM_DIR / \"output_3.csv\"\n",
    "\n",
    "with open(csv_path, 'w', newline='', encoding='utf-8') as csvfile:\n",
    "    writer = csv.DictWriter(csvfile, fieldnames=fieldnames)\n",
    "    writer.writeheader()\n",
    "    for entry in all_data:\n",
    "        writer.writerow(entry)\n"
   ],
   "metadata": {
    "collapsed": false
   },
   "id": "bde88fea3bd0d113",
   "execution_count": null
  },
  {
   "cell_type": "code",
   "outputs": [],
   "source": [],
   "metadata": {
    "collapsed": false
   },
   "id": "a90502edba1f1655",
   "execution_count": null
  }
 ],
 "metadata": {
  "kernelspec": {
   "display_name": "Python 3",
   "language": "python",
   "name": "python3"
  },
  "language_info": {
   "codemirror_mode": {
    "name": "ipython",
    "version": 2
   },
   "file_extension": ".py",
   "mimetype": "text/x-python",
   "name": "python",
   "nbconvert_exporter": "python",
   "pygments_lexer": "ipython2",
   "version": "2.7.6"
  }
 },
 "nbformat": 4,
 "nbformat_minor": 5
}
