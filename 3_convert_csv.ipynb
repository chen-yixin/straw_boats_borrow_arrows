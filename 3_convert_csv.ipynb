{
 "cells": [
  {
   "cell_type": "code",
   "outputs": [
    {
     "data": {
      "text/plain": "[WindowsPath('D:/code/github.com/straw_boats_borrow_arrows/upstream/fakessh-2024-02-18-15-27-09-000.log'),\n WindowsPath('D:/code/github.com/straw_boats_borrow_arrows/upstream/fakessh-2024-03-08-01-31-43-000.log'),\n WindowsPath('D:/code/github.com/straw_boats_borrow_arrows/upstream/fakessh-2024-03-20-02-00-43-000.log')]"
     },
     "execution_count": 4,
     "metadata": {},
     "output_type": "execute_result"
    }
   ],
   "source": [
    "# 取得全部上游数据的文件路径\n",
    "from typing import List\n",
    "from pathlib import Path\n",
    "from common import UPSTREAM_DIR\n",
    "\n",
    "upstream_files: List[Path] = []\n",
    "for filepath in UPSTREAM_DIR.glob('*.log'):\n",
    "    upstream_files.append(filepath)\n",
    "\n",
    "upstream_files[:3]"
   ],
   "metadata": {
    "collapsed": false,
    "ExecuteTime": {
     "end_time": "2025-03-09T02:47:30.255703Z",
     "start_time": "2025-03-09T02:47:30.244688Z"
    }
   },
   "id": "1ed63f000e6a1b34",
   "execution_count": 4
  },
  {
   "cell_type": "code",
   "outputs": [
    {
     "data": {
      "text/plain": "[{'timestamp': '2024/02/18 15:30:02.017736',\n  'ip': '111.209.139.126',\n  'port': '10157',\n  'client': '',\n  'username': '',\n  'password': ''},\n {'timestamp': '2024/02/18 15:30:39.309677',\n  'ip': '111.209.139.126',\n  'port': '4811',\n  'client': '',\n  'username': '',\n  'password': ''},\n {'timestamp': '2024/02/18 15:30:44.105633',\n  'ip': '111.209.139.126',\n  'port': '4811',\n  'client': 'SSH-2.0-OpenSSH_for_Windows_8.6',\n  'username': 'root',\n  'password': 'test'}]"
     },
     "execution_count": 5,
     "metadata": {},
     "output_type": "execute_result"
    }
   ],
   "source": [
    "# 解析上游数据\n",
    "import re\n",
    "pattern = re.compile(r'^([\\d/]+\\s[\\d:.]+)\\s([\\d.]+):(\\d+)\\s?(.*?)\\s?(\\S*)\\s?(\\S*)$')\n",
    "\n",
    "records = []\n",
    "for upstream_file in upstream_files:\n",
    "    with open(upstream_file, 'r', encoding='utf-8') as f:\n",
    "        for line in f.readlines():\n",
    "            if match := pattern.match(line):\n",
    "                record = {\n",
    "                    'timestamp': match.group(1),\n",
    "                    'ip': match.group(2),\n",
    "                    'port': match.group(3),\n",
    "                    'client': match.group(4),\n",
    "                    'username': match.group(5),\n",
    "                    'password': match.group(6),\n",
    "                }\n",
    "                records.append(record)\n",
    "\n",
    "records[:3]"
   ],
   "metadata": {
    "collapsed": false,
    "ExecuteTime": {
     "end_time": "2025-03-09T02:47:33.350678Z",
     "start_time": "2025-03-09T02:47:30.899841Z"
    }
   },
   "id": "da63088d5f7b9dad",
   "execution_count": 5
  },
  {
   "cell_type": "code",
   "outputs": [],
   "source": [
    "# CSV文件输出\n",
    "import csv\n",
    "from common import DOWNSTREAM_DIR\n",
    "\n",
    "fieldnames = ['timestamp', 'ip', 'port', 'client', 'username', 'password']\n",
    "csv_path = DOWNSTREAM_DIR / \"output_3.csv\"\n",
    "\n",
    "with open(csv_path, 'w', newline='', encoding='utf-8') as csvfile:\n",
    "    writer = csv.DictWriter(csvfile, fieldnames=fieldnames)\n",
    "    writer.writeheader()\n",
    "    for record in records:\n",
    "        writer.writerow(record)\n"
   ],
   "metadata": {
    "collapsed": false,
    "ExecuteTime": {
     "end_time": "2025-03-09T02:47:34.021502Z",
     "start_time": "2025-03-09T02:47:33.352744Z"
    }
   },
   "id": "bde88fea3bd0d113",
   "execution_count": 6
  },
  {
   "cell_type": "code",
   "outputs": [],
   "source": [],
   "metadata": {
    "collapsed": false
   },
   "id": "a90502edba1f1655",
   "execution_count": null
  }
 ],
 "metadata": {
  "kernelspec": {
   "display_name": "Python 3",
   "language": "python",
   "name": "python3"
  },
  "language_info": {
   "codemirror_mode": {
    "name": "ipython",
    "version": 2
   },
   "file_extension": ".py",
   "mimetype": "text/x-python",
   "name": "python",
   "nbconvert_exporter": "python",
   "pygments_lexer": "ipython2",
   "version": "2.7.6"
  }
 },
 "nbformat": 4,
 "nbformat_minor": 5
}
