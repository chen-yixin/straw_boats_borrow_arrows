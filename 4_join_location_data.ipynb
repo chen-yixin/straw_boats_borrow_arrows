{
 "cells": [
  {
   "cell_type": "code",
   "execution_count": null,
   "id": "initial_id",
   "metadata": {
    "collapsed": true
   },
   "outputs": [],
   "source": [
    "# 取得全部上游数据的文件路径\n",
    "from typing import List\n",
    "from pathlib import Path\n",
    "from common import UPSTREAM_DIR\n",
    "\n",
    "upstream_files: List[Path] = []\n",
    "for filepath in UPSTREAM_DIR.glob('*.log'):\n",
    "    upstream_files.append(filepath)\n",
    "\n",
    "upstream_files[:3]"
   ]
  },
  {
   "cell_type": "code",
   "outputs": [],
   "source": [
    "# 加载ip-地理信息数据\n",
    "from IP2Location import IP2Location\n",
    "from common import BASE_DIR\n",
    "ip2location = IP2Location(BASE_DIR / 'lib' / 'IP2LOCATION-LITE-DB11.BIN')"
   ],
   "metadata": {
    "collapsed": false
   },
   "id": "22158d8f3b2a2413",
   "execution_count": null
  },
  {
   "cell_type": "code",
   "outputs": [],
   "source": [
    "# 解析上游数据\n",
    "import re\n",
    "import pprint\n",
    "pattern = re.compile(r'^([\\d/]+\\s[\\d:.]+)\\s([\\d.]+):(\\d+)\\s?(.*?)\\s?(\\S*)\\s?(\\S*)$')\n",
    "\n",
    "all_data = []\n",
    "for upstream_file in upstream_files:\n",
    "    with open(upstream_file, 'r', encoding='utf-8') as f:\n",
    "        for line in f.readlines():\n",
    "            if match := pattern.match(line):\n",
    "                timestamp = match.group(1)\n",
    "                ip = match.group(2)\n",
    "                port = match.group(3)\n",
    "                client = match.group(4)\n",
    "                username = match.group(5)\n",
    "                password = match.group(6)\n",
    "\n",
    "                # 获取地理位置信息\n",
    "                try:\n",
    "                    record = ip2location.get_all(ip)\n",
    "                    country_code = record.country_short\n",
    "                    country_name = record.country_long\n",
    "                    region = record.region\n",
    "                    city = record.city\n",
    "                    zipcode = record.zipcode\n",
    "                    timezone = record.timezone\n",
    "                except Exception as e:\n",
    "                    # 处理查询失败的情况\n",
    "                    pprint.pp(e)\n",
    "                    country_code = 'N/A'\n",
    "                    country_name = 'N/A'\n",
    "                    region = 'N/A'\n",
    "                    city = 'N/A'\n",
    "                    zipcode = 'N/A'\n",
    "                    timezone = 'N/A'\n",
    "\n",
    "                entry = {\n",
    "                    'timestamp': timestamp,\n",
    "                    'ip': ip,\n",
    "                    'port': port,\n",
    "                    'client': client,\n",
    "                    'username': username,\n",
    "                    'password': password,\n",
    "                    'country_code': country_code,\n",
    "                    'country_name': country_name,\n",
    "                    'region': region,\n",
    "                    'city': city,\n",
    "                    'zipcode': zipcode,\n",
    "                    'timezone': timezone,\n",
    "                }\n",
    "                all_data.append(entry)\n",
    "\n",
    "all_data[:3]"
   ],
   "metadata": {
    "collapsed": false
   },
   "id": "8319c64f820f1d38",
   "execution_count": null
  },
  {
   "cell_type": "code",
   "outputs": [],
   "source": [
    "# CSV文件输出\n",
    "import csv\n",
    "from common import DOWNSTREAM_DIR\n",
    "\n",
    "fieldnames = [\n",
    "    'timestamp', 'ip', 'port', \n",
    "    'country_code', 'country_name', 'region', 'city', 'zipcode', 'timezone',\n",
    "    'client', 'username', 'password',\n",
    "]\n",
    "csv_path = DOWNSTREAM_DIR / \"output_4.csv\"\n",
    "\n",
    "with open(csv_path, 'w', newline='', encoding='utf-8') as csvfile:\n",
    "    writer = csv.DictWriter(csvfile, fieldnames=fieldnames)\n",
    "    writer.writeheader()\n",
    "    for entry in all_data:\n",
    "        writer.writerow(entry)\n"
   ],
   "metadata": {
    "collapsed": false
   },
   "id": "2cc47b20b2815bb6",
   "execution_count": null
  },
  {
   "cell_type": "code",
   "outputs": [],
   "source": [],
   "metadata": {
    "collapsed": false
   },
   "id": "49791f138a18a4f2"
  }
 ],
 "metadata": {
  "kernelspec": {
   "display_name": "Python 3",
   "language": "python",
   "name": "python3"
  },
  "language_info": {
   "codemirror_mode": {
    "name": "ipython",
    "version": 2
   },
   "file_extension": ".py",
   "mimetype": "text/x-python",
   "name": "python",
   "nbconvert_exporter": "python",
   "pygments_lexer": "ipython2",
   "version": "2.7.6"
  }
 },
 "nbformat": 4,
 "nbformat_minor": 5
}
