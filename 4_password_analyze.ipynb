{
 "cells": [
  {
   "cell_type": "code",
   "execution_count": 1,
   "id": "initial_id",
   "metadata": {
    "collapsed": true,
    "ExecuteTime": {
     "end_time": "2025-03-12T13:38:29.049983Z",
     "start_time": "2025-03-12T13:38:27.276893Z"
    }
   },
   "outputs": [
    {
     "data": {
      "text/plain": "                         timestamp               ip   port  \\\n0       2024/02/18 15:30:02.017736  111.209.139.126  10157   \n1       2024/02/18 15:30:39.309677  111.209.139.126   4811   \n2       2024/02/18 15:30:44.105633  111.209.139.126   4811   \n3       2024/02/18 15:30:46.312784  111.209.139.126   4811   \n4       2024/02/18 15:30:49.190240  111.209.139.126   4811   \n...                            ...              ...    ...   \n203613  2025/03/08 06:16:00.300680   172.105.128.11  42824   \n203614  2025/03/08 06:16:01.692440   172.105.128.11  42840   \n203615  2025/03/08 08:06:02.519125  176.113.115.137  64001   \n203616  2025/03/08 08:35:53.760720  154.212.141.163  59206   \n203617  2025/03/08 08:35:54.364901  154.212.141.163  59382   \n\n                                 client username password  \n0                                   NaN      NaN      NaN  \n1                                   NaN      NaN      NaN  \n2       SSH-2.0-OpenSSH_for_Windows_8.6     root     test  \n3       SSH-2.0-OpenSSH_for_Windows_8.6     root      111  \n4       SSH-2.0-OpenSSH_for_Windows_8.6     root      hia  \n...                                 ...      ...      ...  \n203613                              NaN      NaN      NaN  \n203614                              NaN      NaN      NaN  \n203615                              NaN      NaN      NaN  \n203616                              NaN      NaN      NaN  \n203617                              NaN      NaN      NaN  \n\n[203618 rows x 6 columns]",
      "text/html": "<div>\n<style scoped>\n    .dataframe tbody tr th:only-of-type {\n        vertical-align: middle;\n    }\n\n    .dataframe tbody tr th {\n        vertical-align: top;\n    }\n\n    .dataframe thead th {\n        text-align: right;\n    }\n</style>\n<table border=\"1\" class=\"dataframe\">\n  <thead>\n    <tr style=\"text-align: right;\">\n      <th></th>\n      <th>timestamp</th>\n      <th>ip</th>\n      <th>port</th>\n      <th>client</th>\n      <th>username</th>\n      <th>password</th>\n    </tr>\n  </thead>\n  <tbody>\n    <tr>\n      <th>0</th>\n      <td>2024/02/18 15:30:02.017736</td>\n      <td>111.209.139.126</td>\n      <td>10157</td>\n      <td>NaN</td>\n      <td>NaN</td>\n      <td>NaN</td>\n    </tr>\n    <tr>\n      <th>1</th>\n      <td>2024/02/18 15:30:39.309677</td>\n      <td>111.209.139.126</td>\n      <td>4811</td>\n      <td>NaN</td>\n      <td>NaN</td>\n      <td>NaN</td>\n    </tr>\n    <tr>\n      <th>2</th>\n      <td>2024/02/18 15:30:44.105633</td>\n      <td>111.209.139.126</td>\n      <td>4811</td>\n      <td>SSH-2.0-OpenSSH_for_Windows_8.6</td>\n      <td>root</td>\n      <td>test</td>\n    </tr>\n    <tr>\n      <th>3</th>\n      <td>2024/02/18 15:30:46.312784</td>\n      <td>111.209.139.126</td>\n      <td>4811</td>\n      <td>SSH-2.0-OpenSSH_for_Windows_8.6</td>\n      <td>root</td>\n      <td>111</td>\n    </tr>\n    <tr>\n      <th>4</th>\n      <td>2024/02/18 15:30:49.190240</td>\n      <td>111.209.139.126</td>\n      <td>4811</td>\n      <td>SSH-2.0-OpenSSH_for_Windows_8.6</td>\n      <td>root</td>\n      <td>hia</td>\n    </tr>\n    <tr>\n      <th>...</th>\n      <td>...</td>\n      <td>...</td>\n      <td>...</td>\n      <td>...</td>\n      <td>...</td>\n      <td>...</td>\n    </tr>\n    <tr>\n      <th>203613</th>\n      <td>2025/03/08 06:16:00.300680</td>\n      <td>172.105.128.11</td>\n      <td>42824</td>\n      <td>NaN</td>\n      <td>NaN</td>\n      <td>NaN</td>\n    </tr>\n    <tr>\n      <th>203614</th>\n      <td>2025/03/08 06:16:01.692440</td>\n      <td>172.105.128.11</td>\n      <td>42840</td>\n      <td>NaN</td>\n      <td>NaN</td>\n      <td>NaN</td>\n    </tr>\n    <tr>\n      <th>203615</th>\n      <td>2025/03/08 08:06:02.519125</td>\n      <td>176.113.115.137</td>\n      <td>64001</td>\n      <td>NaN</td>\n      <td>NaN</td>\n      <td>NaN</td>\n    </tr>\n    <tr>\n      <th>203616</th>\n      <td>2025/03/08 08:35:53.760720</td>\n      <td>154.212.141.163</td>\n      <td>59206</td>\n      <td>NaN</td>\n      <td>NaN</td>\n      <td>NaN</td>\n    </tr>\n    <tr>\n      <th>203617</th>\n      <td>2025/03/08 08:35:54.364901</td>\n      <td>154.212.141.163</td>\n      <td>59382</td>\n      <td>NaN</td>\n      <td>NaN</td>\n      <td>NaN</td>\n    </tr>\n  </tbody>\n</table>\n<p>203618 rows × 6 columns</p>\n</div>"
     },
     "execution_count": 1,
     "metadata": {},
     "output_type": "execute_result"
    }
   ],
   "source": [
    "import pandas as pd\n",
    "from common import DOWNSTREAM_DIR\n",
    "\n",
    "df = pd.read_csv(DOWNSTREAM_DIR / 'output_3.csv')\n",
    "df"
   ]
  },
  {
   "cell_type": "code",
   "outputs": [
    {
     "data": {
      "text/plain": "username\nroot        50969\nubuntu        821\nadmin         735\nuser          634\naaa           502\n            ...  \nanand           5\nerp             5\nsftpuser        5\nnisec           5\njboss           5\nName: count, Length: 205, dtype: int64"
     },
     "execution_count": 2,
     "metadata": {},
     "output_type": "execute_result"
    }
   ],
   "source": [
    "usernames = df['username'].value_counts()\n",
    "usernames = usernames[usernames >= 5]\n",
    "usernames"
   ],
   "metadata": {
    "collapsed": false,
    "ExecuteTime": {
     "end_time": "2025-03-12T13:38:29.099952Z",
     "start_time": "2025-03-12T13:38:29.053191Z"
    }
   },
   "id": "cb35dabaa9d0dc53",
   "execution_count": 2
  },
  {
   "cell_type": "code",
   "outputs": [
    {
     "data": {
      "text/plain": "password\n123456          2752\n123              527\n1234             233\npassword         228\n12345678         223\n                ... \njupiter            5\nqweqwe             5\nvyos               5\nAa123456!          5\nc4h?itwj5ENi       5\nName: count, Length: 463, dtype: int64"
     },
     "execution_count": 3,
     "metadata": {},
     "output_type": "execute_result"
    }
   ],
   "source": [
    "passwords = df['password'].value_counts()\n",
    "passwords = passwords[passwords >= 5]\n",
    "passwords"
   ],
   "metadata": {
    "collapsed": false,
    "ExecuteTime": {
     "end_time": "2025-03-12T13:38:29.194998Z",
     "start_time": "2025-03-12T13:38:29.104975Z"
    }
   },
   "id": "5cc2e0a973d5da02",
   "execution_count": 3
  },
  {
   "cell_type": "code",
   "outputs": [
    {
     "data": {
      "text/plain": "         username password  count\n10496        root   123456    165\n39246        root     root     51\n46085      ubuntu   123456     45\n45589        test     test     41\n783         admin    admin     38\n...           ...      ...    ...\n6      1q2w3e,./?       ><      1\n7               2        2      1\n8            2345        6      1\n9            3333     3333      1\n10          Aarni    Aarni      1\n\n[47792 rows x 3 columns]",
      "text/html": "<div>\n<style scoped>\n    .dataframe tbody tr th:only-of-type {\n        vertical-align: middle;\n    }\n\n    .dataframe tbody tr th {\n        vertical-align: top;\n    }\n\n    .dataframe thead th {\n        text-align: right;\n    }\n</style>\n<table border=\"1\" class=\"dataframe\">\n  <thead>\n    <tr style=\"text-align: right;\">\n      <th></th>\n      <th>username</th>\n      <th>password</th>\n      <th>count</th>\n    </tr>\n  </thead>\n  <tbody>\n    <tr>\n      <th>10496</th>\n      <td>root</td>\n      <td>123456</td>\n      <td>165</td>\n    </tr>\n    <tr>\n      <th>39246</th>\n      <td>root</td>\n      <td>root</td>\n      <td>51</td>\n    </tr>\n    <tr>\n      <th>46085</th>\n      <td>ubuntu</td>\n      <td>123456</td>\n      <td>45</td>\n    </tr>\n    <tr>\n      <th>45589</th>\n      <td>test</td>\n      <td>test</td>\n      <td>41</td>\n    </tr>\n    <tr>\n      <th>783</th>\n      <td>admin</td>\n      <td>admin</td>\n      <td>38</td>\n    </tr>\n    <tr>\n      <th>...</th>\n      <td>...</td>\n      <td>...</td>\n      <td>...</td>\n    </tr>\n    <tr>\n      <th>6</th>\n      <td>1q2w3e,./?</td>\n      <td>&gt;&lt;</td>\n      <td>1</td>\n    </tr>\n    <tr>\n      <th>7</th>\n      <td>2</td>\n      <td>2</td>\n      <td>1</td>\n    </tr>\n    <tr>\n      <th>8</th>\n      <td>2345</td>\n      <td>6</td>\n      <td>1</td>\n    </tr>\n    <tr>\n      <th>9</th>\n      <td>3333</td>\n      <td>3333</td>\n      <td>1</td>\n    </tr>\n    <tr>\n      <th>10</th>\n      <td>Aarni</td>\n      <td>Aarni</td>\n      <td>1</td>\n    </tr>\n  </tbody>\n</table>\n<p>47792 rows × 3 columns</p>\n</div>"
     },
     "execution_count": 4,
     "metadata": {},
     "output_type": "execute_result"
    }
   ],
   "source": [
    "df_auth = (\n",
    "    df\n",
    "    .groupby(['username', 'password'])\n",
    "    .size()\n",
    "    .reset_index(name='count')\n",
    "    .sort_values('count', ascending=False)\n",
    ")\n",
    "df_auth"
   ],
   "metadata": {
    "collapsed": false,
    "ExecuteTime": {
     "end_time": "2025-03-12T13:38:29.405953Z",
     "start_time": "2025-03-12T13:38:29.198013Z"
    }
   },
   "id": "37a7d4824af0e4c3",
   "execution_count": 4
  },
  {
   "cell_type": "code",
   "outputs": [
    {
     "data": {
      "text/plain": "client\nSSH-2.0-Go                              45649\nSSH-2.0-libssh_0.9.6                    16566\nSSH-2.0-libssh2_1.11.0                   1400\nSSH-2.0-libssh_0.7.4                     1000\nSSH-2.0-libssh2_1.7.0                     293\nSSH-2.0-libssh2_1.9.0                     276\nSSH-2.0-makiko                            257\nSSH-2.0-libssh2_1.4.3                     219\nSSH-2.0-libssh_0.10.5                     149\nSSH-2.0-libssh2_1.10.0                    108\nSSH-2.0-phpseclib_1.0 (openssl, gmp)       90\nSSH-2.0-phpseclib_1.0 (openssl)            81\nSSH-2.0-libssh_0.9.5                       72\nSSH-2.0-Go root                            50\nSSH-2.0-OpenSSH_7.4                        24\nSSH-2.0-OpenSSH                            12\nSSH-2.0-libssh-0.6.0                        6\nSSH-2.0-Go ubuntu                           5\nName: count, dtype: int64"
     },
     "execution_count": 5,
     "metadata": {},
     "output_type": "execute_result"
    }
   ],
   "source": [
    "clients = df['client'].value_counts()\n",
    "clients = clients[clients >= 5]\n",
    "clients"
   ],
   "metadata": {
    "collapsed": false,
    "ExecuteTime": {
     "end_time": "2025-03-12T13:38:29.436018Z",
     "start_time": "2025-03-12T13:38:29.409969Z"
    }
   },
   "id": "a947cdfc2ec2fde9",
   "execution_count": 5
  },
  {
   "cell_type": "code",
   "outputs": [
    {
     "data": {
      "text/plain": "ip\n218.0.55.157       46203\n186.53.130.195     24077\n116.128.230.184     7167\n62.25.85.233        5495\n177.234.178.105     5390\n                   ...  \n104.152.52.40          5\n167.94.145.103         5\n194.169.175.35         5\n45.55.40.172           5\n134.41.50.122          5\nName: count, Length: 1219, dtype: int64"
     },
     "execution_count": 6,
     "metadata": {},
     "output_type": "execute_result"
    }
   ],
   "source": [
    "ips = df['ip'].value_counts()\n",
    "ips = ips[ips >= 5]\n",
    "ips"
   ],
   "metadata": {
    "collapsed": false,
    "ExecuteTime": {
     "end_time": "2025-03-12T13:38:29.471533Z",
     "start_time": "2025-03-12T13:38:29.439033Z"
    }
   },
   "id": "4ccbf247217f423",
   "execution_count": 6
  },
  {
   "cell_type": "code",
   "outputs": [],
   "source": [
    "from common import OUTPUT_DIR\n",
    "\n",
    "fields = ['usernames', 'passwords', 'clients', 'ips']\n",
    "for field in fields:\n",
    "    with open(OUTPUT_DIR / f'{field}.txt', 'w', encoding='utf-8') as file:\n",
    "        for value in eval(f'{field}.index'):\n",
    "            file.write(f\"{value}\\n\")\n"
   ],
   "metadata": {
    "collapsed": false,
    "ExecuteTime": {
     "end_time": "2025-03-12T13:38:29.491802Z",
     "start_time": "2025-03-12T13:38:29.473546Z"
    }
   },
   "id": "121b8675b4aabf23",
   "execution_count": 7
  },
  {
   "cell_type": "code",
   "outputs": [],
   "source": [],
   "metadata": {
    "collapsed": false
   },
   "id": "c5355811b8c1499a"
  }
 ],
 "metadata": {
  "kernelspec": {
   "display_name": "Python 3",
   "language": "python",
   "name": "python3"
  },
  "language_info": {
   "codemirror_mode": {
    "name": "ipython",
    "version": 2
   },
   "file_extension": ".py",
   "mimetype": "text/x-python",
   "name": "python",
   "nbconvert_exporter": "python",
   "pygments_lexer": "ipython2",
   "version": "2.7.6"
  }
 },
 "nbformat": 4,
 "nbformat_minor": 5
}
